{
 "cells": [
  {
   "cell_type": "code",
   "execution_count": 381,
   "id": "f5544a34",
   "metadata": {},
   "outputs": [],
   "source": [
    "# Vasavi Bondapalli\n",
    "# Z1915865"
   ]
  },
  {
   "cell_type": "code",
   "execution_count": 400,
   "id": "120bb46b",
   "metadata": {},
   "outputs": [],
   "source": [
    "import matplotlib.pyplot as plt\n",
    "from sklearn.linear_model import LogisticRegression \n",
    "from sklearn.model_selection import GridSearchCV\n",
    "from sklearn.preprocessing import PolynomialFeatures\n",
    "from sklearn.feature_selection import SelectKBest\n",
    "from matplotlib import pyplot\n",
    "from sklearn.feature_selection import chi2\n",
    "from sklearn import metrics\n",
    "import pandas as pd \n",
    "import seaborn as sns\n",
    "import matplotlib.pyplot as plt\n",
    "#from imblearn.over_sampling import RandomOverSampler\n",
    "from sklearn.linear_model import LogisticRegression\n",
    "from sklearn.model_selection import GridSearchCV\n",
    "#from mlxtend.plotting import plot_confusion_matrix\n",
    "from sklearn.metrics import confusion_matrix \n",
    "from sklearn.metrics import classification_report\n",
    "from sklearn.metrics import fbeta_score\n",
    "from sklearn.linear_model import Lasso, LogisticRegression\n",
    "import numpy as np\n",
    "import pandas as pd\n",
    "%matplotlib inline\n",
    "# import warnings filter\n",
    "from warnings import simplefilter\n",
    "# ignore all future warnings\n",
    "simplefilter(action='ignore', category=FutureWarning)\n",
    "import warnings\n",
    "warnings.filterwarnings(\"ignore\")"
   ]
  },
  {
   "cell_type": "code",
   "execution_count": 401,
   "id": "8eff8431",
   "metadata": {},
   "outputs": [],
   "source": [
    "# 1.\n",
    "# Which features are relevant for the prediction task?  \n",
    "#Select top 10 features based on your understanding. \n",
    "#Show visualizations or statistics to support your selection. [2 0 Marks] "
   ]
  },
  {
   "cell_type": "code",
   "execution_count": 402,
   "id": "8f83e6ff",
   "metadata": {},
   "outputs": [
    {
     "name": "stdout",
     "output_type": "stream",
     "text": [
      "{1: {'name': 'MOSTYPE'}, 2: {'name': 'MAANTHUI'}, 3: {'name': 'MGEMOMV'}, 4: {'name': 'MGEMLEEF'}, 5: {'name': 'MOSHOOFD'}, 6: {'name': 'MGODRK'}, 7: {'name': 'MGODPR'}, 8: {'name': 'MGODOV'}, 9: {'name': 'MGODGE'}, 10: {'name': 'MRELGE'}, 11: {'name': 'MRELSA'}, 12: {'name': 'MRELOV'}, 13: {'name': 'MFALLEEN'}, 14: {'name': 'MFGEKIND'}, 15: {'name': 'MFWEKIND'}, 16: {'name': 'MOPLHOOG'}, 17: {'name': 'MOPLMIDD'}, 18: {'name': 'MOPLLAAG'}, 19: {'name': 'MBERHOOG'}, 20: {'name': 'MBERZELF'}, 21: {'name': 'MBERBOER'}, 22: {'name': 'MBERMIDD'}, 23: {'name': 'MBERARBG'}, 24: {'name': 'MBERARBO'}, 25: {'name': 'MSKA'}, 26: {'name': 'MSKB1'}, 27: {'name': 'MSKB2'}, 28: {'name': 'MSKC'}, 29: {'name': 'MSKD'}, 30: {'name': 'MHHUUR'}, 31: {'name': 'MHKOOP'}, 32: {'name': 'MAUT1'}, 33: {'name': 'MAUT2'}, 34: {'name': 'MAUT0'}, 35: {'name': 'MZFONDS'}, 36: {'name': 'MZPART'}, 37: {'name': 'MINKM30'}, 38: {'name': 'MINK3045'}, 39: {'name': 'MINK4575'}, 40: {'name': 'MINK7512'}, 41: {'name': 'MINK123M'}, 42: {'name': 'MINKGEM'}, 43: {'name': 'MKOOPKLA'}, 44: {'name': 'PWAPART'}, 45: {'name': 'PWABEDR'}, 46: {'name': 'PWALAND'}, 47: {'name': 'PPERSAUT'}, 48: {'name': 'PBESAUT'}, 49: {'name': 'PMOTSCO'}, 50: {'name': 'PVRAAUT'}, 51: {'name': 'PAANHANG'}, 52: {'name': 'PTRACTOR'}, 53: {'name': 'PWERKT'}, 54: {'name': 'PBROM'}, 55: {'name': 'PLEVEN'}, 56: {'name': 'PPERSONG'}, 57: {'name': 'PGEZONG'}, 58: {'name': 'PWAOREG'}, 59: {'name': 'PBRAND'}, 60: {'name': 'PZEILPL'}, 61: {'name': 'PPLEZIER'}, 62: {'name': 'PFIETS'}, 63: {'name': 'PINBOED'}, 64: {'name': 'PBYSTAND'}, 65: {'name': 'AWAPART'}, 66: {'name': 'AWABEDR'}, 67: {'name': 'AWALAND'}, 68: {'name': 'APERSAUT'}, 69: {'name': 'ABESAUT'}, 70: {'name': 'AMOTSCO'}, 71: {'name': 'AVRAAUT'}, 72: {'name': 'AAANHANG'}, 73: {'name': 'ATRACTOR'}, 74: {'name': 'AWERKT'}, 75: {'name': 'ABROM'}, 76: {'name': 'ALEVEN'}, 77: {'name': 'APERSONG'}, 78: {'name': 'AGEZONG'}, 79: {'name': 'AWAOREG'}, 80: {'name': 'ABRAND'}, 81: {'name': 'AZEILPL'}, 82: {'name': 'APLEZIER'}, 83: {'name': 'AFIETS'}, 84: {'name': 'AINBOED'}, 85: {'name': 'ABYSTAND'}, 86: {'name': 'CARAVAN'}}\n"
     ]
    }
   ],
   "source": [
    "from ssl import ALERT_DESCRIPTION_ACCESS_DENIED\n",
    "from urllib.request import urlopen\n",
    "\n",
    "data = urlopen(\"http://kdd.ics.uci.edu/databases/tic/dictionary.txt\")\n",
    "data=data.readlines()\n",
    "data=data[3:] # eliminate the first few lines\n",
    "#discription\n",
    "i = 86\n",
    "codes = {}\n",
    "for line in data:\n",
    "    if i == 0:\n",
    "        break\n",
    "    thisline=str(line)[2:] # start processing from the integer\n",
    "    \n",
    "    words = thisline.split(' ')\n",
    "    \n",
    "    n = words[1]\n",
    "    \n",
    "    d = ' '.join(words[2:])\n",
    "    \n",
    "    codes[int(words[0])] = {'name': n}\n",
    "  \n",
    "    i -= 1\n",
    "    \n",
    "\n",
    "\n",
    "print(codes)\n"
   ]
  },
  {
   "cell_type": "code",
   "execution_count": 441,
   "id": "0aef9cdb",
   "metadata": {},
   "outputs": [],
   "source": [
    "col_names=[]\n",
    "for i in range(1,87):\n",
    "    col_names.append(i)\n",
    "train=pd.read_table('ticdata2000.txt',names=col_names)\n",
    "test=pd.read_table('ticeval2000.txt')\n",
    "target=pd.read_table(\"tictgts2000.txt\")"
   ]
  },
  {
   "cell_type": "code",
   "execution_count": 442,
   "id": "999646bb",
   "metadata": {},
   "outputs": [],
   "source": [
    "cols1=[]\n",
    "cols1=pd.DataFrame.from_dict({(i): codes[i] \n",
    "                           for i in codes.keys() \n",
    "                           #for j in user_dict[i].keys()\n",
    "                       },orient='index')\n",
    "cols2=list(cols1.name)"
   ]
  },
  {
   "cell_type": "code",
   "execution_count": 443,
   "id": "11111e0c",
   "metadata": {},
   "outputs": [],
   "source": [
    "train.columns=cols2"
   ]
  },
  {
   "cell_type": "code",
   "execution_count": 444,
   "id": "27016b12",
   "metadata": {},
   "outputs": [
    {
     "data": {
      "text/html": [
       "<div>\n",
       "<style scoped>\n",
       "    .dataframe tbody tr th:only-of-type {\n",
       "        vertical-align: middle;\n",
       "    }\n",
       "\n",
       "    .dataframe tbody tr th {\n",
       "        vertical-align: top;\n",
       "    }\n",
       "\n",
       "    .dataframe thead th {\n",
       "        text-align: right;\n",
       "    }\n",
       "</style>\n",
       "<table border=\"1\" class=\"dataframe\">\n",
       "  <thead>\n",
       "    <tr style=\"text-align: right;\">\n",
       "      <th></th>\n",
       "      <th>MOSTYPE</th>\n",
       "      <th>MAANTHUI</th>\n",
       "      <th>MGEMOMV</th>\n",
       "      <th>MGEMLEEF</th>\n",
       "      <th>MOSHOOFD</th>\n",
       "      <th>MGODRK</th>\n",
       "      <th>MGODPR</th>\n",
       "      <th>MGODOV</th>\n",
       "      <th>MGODGE</th>\n",
       "      <th>MRELGE</th>\n",
       "      <th>...</th>\n",
       "      <th>APERSONG</th>\n",
       "      <th>AGEZONG</th>\n",
       "      <th>AWAOREG</th>\n",
       "      <th>ABRAND</th>\n",
       "      <th>AZEILPL</th>\n",
       "      <th>APLEZIER</th>\n",
       "      <th>AFIETS</th>\n",
       "      <th>AINBOED</th>\n",
       "      <th>ABYSTAND</th>\n",
       "      <th>CARAVAN</th>\n",
       "    </tr>\n",
       "  </thead>\n",
       "  <tbody>\n",
       "    <tr>\n",
       "      <th>0</th>\n",
       "      <td>33</td>\n",
       "      <td>1</td>\n",
       "      <td>3</td>\n",
       "      <td>2</td>\n",
       "      <td>8</td>\n",
       "      <td>0</td>\n",
       "      <td>5</td>\n",
       "      <td>1</td>\n",
       "      <td>3</td>\n",
       "      <td>7</td>\n",
       "      <td>...</td>\n",
       "      <td>0</td>\n",
       "      <td>0</td>\n",
       "      <td>0</td>\n",
       "      <td>1</td>\n",
       "      <td>0</td>\n",
       "      <td>0</td>\n",
       "      <td>0</td>\n",
       "      <td>0</td>\n",
       "      <td>0</td>\n",
       "      <td>0</td>\n",
       "    </tr>\n",
       "    <tr>\n",
       "      <th>1</th>\n",
       "      <td>37</td>\n",
       "      <td>1</td>\n",
       "      <td>2</td>\n",
       "      <td>2</td>\n",
       "      <td>8</td>\n",
       "      <td>1</td>\n",
       "      <td>4</td>\n",
       "      <td>1</td>\n",
       "      <td>4</td>\n",
       "      <td>6</td>\n",
       "      <td>...</td>\n",
       "      <td>0</td>\n",
       "      <td>0</td>\n",
       "      <td>0</td>\n",
       "      <td>1</td>\n",
       "      <td>0</td>\n",
       "      <td>0</td>\n",
       "      <td>0</td>\n",
       "      <td>0</td>\n",
       "      <td>0</td>\n",
       "      <td>0</td>\n",
       "    </tr>\n",
       "    <tr>\n",
       "      <th>2</th>\n",
       "      <td>37</td>\n",
       "      <td>1</td>\n",
       "      <td>2</td>\n",
       "      <td>2</td>\n",
       "      <td>8</td>\n",
       "      <td>0</td>\n",
       "      <td>4</td>\n",
       "      <td>2</td>\n",
       "      <td>4</td>\n",
       "      <td>3</td>\n",
       "      <td>...</td>\n",
       "      <td>0</td>\n",
       "      <td>0</td>\n",
       "      <td>0</td>\n",
       "      <td>1</td>\n",
       "      <td>0</td>\n",
       "      <td>0</td>\n",
       "      <td>0</td>\n",
       "      <td>0</td>\n",
       "      <td>0</td>\n",
       "      <td>0</td>\n",
       "    </tr>\n",
       "    <tr>\n",
       "      <th>3</th>\n",
       "      <td>9</td>\n",
       "      <td>1</td>\n",
       "      <td>3</td>\n",
       "      <td>3</td>\n",
       "      <td>3</td>\n",
       "      <td>2</td>\n",
       "      <td>3</td>\n",
       "      <td>2</td>\n",
       "      <td>4</td>\n",
       "      <td>5</td>\n",
       "      <td>...</td>\n",
       "      <td>0</td>\n",
       "      <td>0</td>\n",
       "      <td>0</td>\n",
       "      <td>1</td>\n",
       "      <td>0</td>\n",
       "      <td>0</td>\n",
       "      <td>0</td>\n",
       "      <td>0</td>\n",
       "      <td>0</td>\n",
       "      <td>0</td>\n",
       "    </tr>\n",
       "    <tr>\n",
       "      <th>4</th>\n",
       "      <td>40</td>\n",
       "      <td>1</td>\n",
       "      <td>4</td>\n",
       "      <td>2</td>\n",
       "      <td>10</td>\n",
       "      <td>1</td>\n",
       "      <td>4</td>\n",
       "      <td>1</td>\n",
       "      <td>4</td>\n",
       "      <td>7</td>\n",
       "      <td>...</td>\n",
       "      <td>0</td>\n",
       "      <td>0</td>\n",
       "      <td>0</td>\n",
       "      <td>1</td>\n",
       "      <td>0</td>\n",
       "      <td>0</td>\n",
       "      <td>0</td>\n",
       "      <td>0</td>\n",
       "      <td>0</td>\n",
       "      <td>0</td>\n",
       "    </tr>\n",
       "    <tr>\n",
       "      <th>...</th>\n",
       "      <td>...</td>\n",
       "      <td>...</td>\n",
       "      <td>...</td>\n",
       "      <td>...</td>\n",
       "      <td>...</td>\n",
       "      <td>...</td>\n",
       "      <td>...</td>\n",
       "      <td>...</td>\n",
       "      <td>...</td>\n",
       "      <td>...</td>\n",
       "      <td>...</td>\n",
       "      <td>...</td>\n",
       "      <td>...</td>\n",
       "      <td>...</td>\n",
       "      <td>...</td>\n",
       "      <td>...</td>\n",
       "      <td>...</td>\n",
       "      <td>...</td>\n",
       "      <td>...</td>\n",
       "      <td>...</td>\n",
       "      <td>...</td>\n",
       "    </tr>\n",
       "    <tr>\n",
       "      <th>5817</th>\n",
       "      <td>36</td>\n",
       "      <td>1</td>\n",
       "      <td>1</td>\n",
       "      <td>2</td>\n",
       "      <td>8</td>\n",
       "      <td>0</td>\n",
       "      <td>6</td>\n",
       "      <td>1</td>\n",
       "      <td>2</td>\n",
       "      <td>1</td>\n",
       "      <td>...</td>\n",
       "      <td>0</td>\n",
       "      <td>0</td>\n",
       "      <td>0</td>\n",
       "      <td>1</td>\n",
       "      <td>0</td>\n",
       "      <td>0</td>\n",
       "      <td>0</td>\n",
       "      <td>0</td>\n",
       "      <td>0</td>\n",
       "      <td>0</td>\n",
       "    </tr>\n",
       "    <tr>\n",
       "      <th>5818</th>\n",
       "      <td>35</td>\n",
       "      <td>1</td>\n",
       "      <td>4</td>\n",
       "      <td>4</td>\n",
       "      <td>8</td>\n",
       "      <td>1</td>\n",
       "      <td>4</td>\n",
       "      <td>1</td>\n",
       "      <td>4</td>\n",
       "      <td>6</td>\n",
       "      <td>...</td>\n",
       "      <td>0</td>\n",
       "      <td>0</td>\n",
       "      <td>0</td>\n",
       "      <td>1</td>\n",
       "      <td>0</td>\n",
       "      <td>0</td>\n",
       "      <td>0</td>\n",
       "      <td>0</td>\n",
       "      <td>0</td>\n",
       "      <td>0</td>\n",
       "    </tr>\n",
       "    <tr>\n",
       "      <th>5819</th>\n",
       "      <td>33</td>\n",
       "      <td>1</td>\n",
       "      <td>3</td>\n",
       "      <td>4</td>\n",
       "      <td>8</td>\n",
       "      <td>0</td>\n",
       "      <td>6</td>\n",
       "      <td>0</td>\n",
       "      <td>3</td>\n",
       "      <td>5</td>\n",
       "      <td>...</td>\n",
       "      <td>0</td>\n",
       "      <td>0</td>\n",
       "      <td>0</td>\n",
       "      <td>1</td>\n",
       "      <td>0</td>\n",
       "      <td>0</td>\n",
       "      <td>0</td>\n",
       "      <td>0</td>\n",
       "      <td>0</td>\n",
       "      <td>1</td>\n",
       "    </tr>\n",
       "    <tr>\n",
       "      <th>5820</th>\n",
       "      <td>34</td>\n",
       "      <td>1</td>\n",
       "      <td>3</td>\n",
       "      <td>2</td>\n",
       "      <td>8</td>\n",
       "      <td>0</td>\n",
       "      <td>7</td>\n",
       "      <td>0</td>\n",
       "      <td>2</td>\n",
       "      <td>7</td>\n",
       "      <td>...</td>\n",
       "      <td>0</td>\n",
       "      <td>0</td>\n",
       "      <td>0</td>\n",
       "      <td>0</td>\n",
       "      <td>0</td>\n",
       "      <td>0</td>\n",
       "      <td>0</td>\n",
       "      <td>0</td>\n",
       "      <td>0</td>\n",
       "      <td>0</td>\n",
       "    </tr>\n",
       "    <tr>\n",
       "      <th>5821</th>\n",
       "      <td>33</td>\n",
       "      <td>1</td>\n",
       "      <td>3</td>\n",
       "      <td>3</td>\n",
       "      <td>8</td>\n",
       "      <td>0</td>\n",
       "      <td>6</td>\n",
       "      <td>1</td>\n",
       "      <td>2</td>\n",
       "      <td>7</td>\n",
       "      <td>...</td>\n",
       "      <td>0</td>\n",
       "      <td>0</td>\n",
       "      <td>0</td>\n",
       "      <td>0</td>\n",
       "      <td>0</td>\n",
       "      <td>0</td>\n",
       "      <td>0</td>\n",
       "      <td>0</td>\n",
       "      <td>0</td>\n",
       "      <td>0</td>\n",
       "    </tr>\n",
       "  </tbody>\n",
       "</table>\n",
       "<p>5822 rows × 86 columns</p>\n",
       "</div>"
      ],
      "text/plain": [
       "      MOSTYPE  MAANTHUI  MGEMOMV  MGEMLEEF  MOSHOOFD  MGODRK  MGODPR  MGODOV  \\\n",
       "0          33         1        3         2         8       0       5       1   \n",
       "1          37         1        2         2         8       1       4       1   \n",
       "2          37         1        2         2         8       0       4       2   \n",
       "3           9         1        3         3         3       2       3       2   \n",
       "4          40         1        4         2        10       1       4       1   \n",
       "...       ...       ...      ...       ...       ...     ...     ...     ...   \n",
       "5817       36         1        1         2         8       0       6       1   \n",
       "5818       35         1        4         4         8       1       4       1   \n",
       "5819       33         1        3         4         8       0       6       0   \n",
       "5820       34         1        3         2         8       0       7       0   \n",
       "5821       33         1        3         3         8       0       6       1   \n",
       "\n",
       "      MGODGE  MRELGE  ...  APERSONG  AGEZONG  AWAOREG  ABRAND  AZEILPL  \\\n",
       "0          3       7  ...         0        0        0       1        0   \n",
       "1          4       6  ...         0        0        0       1        0   \n",
       "2          4       3  ...         0        0        0       1        0   \n",
       "3          4       5  ...         0        0        0       1        0   \n",
       "4          4       7  ...         0        0        0       1        0   \n",
       "...      ...     ...  ...       ...      ...      ...     ...      ...   \n",
       "5817       2       1  ...         0        0        0       1        0   \n",
       "5818       4       6  ...         0        0        0       1        0   \n",
       "5819       3       5  ...         0        0        0       1        0   \n",
       "5820       2       7  ...         0        0        0       0        0   \n",
       "5821       2       7  ...         0        0        0       0        0   \n",
       "\n",
       "      APLEZIER  AFIETS  AINBOED  ABYSTAND  CARAVAN  \n",
       "0            0       0        0         0        0  \n",
       "1            0       0        0         0        0  \n",
       "2            0       0        0         0        0  \n",
       "3            0       0        0         0        0  \n",
       "4            0       0        0         0        0  \n",
       "...        ...     ...      ...       ...      ...  \n",
       "5817         0       0        0         0        0  \n",
       "5818         0       0        0         0        0  \n",
       "5819         0       0        0         0        1  \n",
       "5820         0       0        0         0        0  \n",
       "5821         0       0        0         0        0  \n",
       "\n",
       "[5822 rows x 86 columns]"
      ]
     },
     "execution_count": 444,
     "metadata": {},
     "output_type": "execute_result"
    }
   ],
   "source": [
    "train"
   ]
  },
  {
   "cell_type": "code",
   "execution_count": 445,
   "id": "6153803e",
   "metadata": {},
   "outputs": [],
   "source": [
    "y_train=train.iloc[: , -1]\n",
    "x_train = train.iloc[: , :-1]"
   ]
  },
  {
   "cell_type": "code",
   "execution_count": 446,
   "id": "51e74ac8",
   "metadata": {},
   "outputs": [],
   "source": [
    "# Top 10 Features using kBest\n",
    "from sklearn.feature_selection import SelectKBest, chi2\n",
    "\n",
    "KBest = SelectKBest(chi2, k=10).fit(x_train, y_train) \n",
    "f = KBest.get_support(1)\n",
    "top10 = train[train.columns[f]]"
   ]
  },
  {
   "cell_type": "code",
   "execution_count": 447,
   "id": "9d554c62",
   "metadata": {},
   "outputs": [
    {
     "data": {
      "text/html": [
       "<div>\n",
       "<style scoped>\n",
       "    .dataframe tbody tr th:only-of-type {\n",
       "        vertical-align: middle;\n",
       "    }\n",
       "\n",
       "    .dataframe tbody tr th {\n",
       "        vertical-align: top;\n",
       "    }\n",
       "\n",
       "    .dataframe thead th {\n",
       "        text-align: right;\n",
       "    }\n",
       "</style>\n",
       "<table border=\"1\" class=\"dataframe\">\n",
       "  <thead>\n",
       "    <tr style=\"text-align: right;\">\n",
       "      <th></th>\n",
       "      <th>MOSTYPE</th>\n",
       "      <th>MOPLHOOG</th>\n",
       "      <th>MHHUUR</th>\n",
       "      <th>MHKOOP</th>\n",
       "      <th>PPERSAUT</th>\n",
       "      <th>PBRAND</th>\n",
       "      <th>PPLEZIER</th>\n",
       "      <th>PBYSTAND</th>\n",
       "      <th>APERSAUT</th>\n",
       "      <th>APLEZIER</th>\n",
       "    </tr>\n",
       "  </thead>\n",
       "  <tbody>\n",
       "    <tr>\n",
       "      <th>0</th>\n",
       "      <td>33</td>\n",
       "      <td>1</td>\n",
       "      <td>1</td>\n",
       "      <td>8</td>\n",
       "      <td>6</td>\n",
       "      <td>5</td>\n",
       "      <td>0</td>\n",
       "      <td>0</td>\n",
       "      <td>1</td>\n",
       "      <td>0</td>\n",
       "    </tr>\n",
       "    <tr>\n",
       "      <th>1</th>\n",
       "      <td>37</td>\n",
       "      <td>0</td>\n",
       "      <td>2</td>\n",
       "      <td>7</td>\n",
       "      <td>0</td>\n",
       "      <td>2</td>\n",
       "      <td>0</td>\n",
       "      <td>0</td>\n",
       "      <td>0</td>\n",
       "      <td>0</td>\n",
       "    </tr>\n",
       "    <tr>\n",
       "      <th>2</th>\n",
       "      <td>37</td>\n",
       "      <td>0</td>\n",
       "      <td>7</td>\n",
       "      <td>2</td>\n",
       "      <td>6</td>\n",
       "      <td>2</td>\n",
       "      <td>0</td>\n",
       "      <td>0</td>\n",
       "      <td>1</td>\n",
       "      <td>0</td>\n",
       "    </tr>\n",
       "    <tr>\n",
       "      <th>3</th>\n",
       "      <td>9</td>\n",
       "      <td>3</td>\n",
       "      <td>5</td>\n",
       "      <td>4</td>\n",
       "      <td>6</td>\n",
       "      <td>2</td>\n",
       "      <td>0</td>\n",
       "      <td>0</td>\n",
       "      <td>1</td>\n",
       "      <td>0</td>\n",
       "    </tr>\n",
       "    <tr>\n",
       "      <th>4</th>\n",
       "      <td>40</td>\n",
       "      <td>5</td>\n",
       "      <td>4</td>\n",
       "      <td>5</td>\n",
       "      <td>0</td>\n",
       "      <td>6</td>\n",
       "      <td>0</td>\n",
       "      <td>0</td>\n",
       "      <td>0</td>\n",
       "      <td>0</td>\n",
       "    </tr>\n",
       "    <tr>\n",
       "      <th>...</th>\n",
       "      <td>...</td>\n",
       "      <td>...</td>\n",
       "      <td>...</td>\n",
       "      <td>...</td>\n",
       "      <td>...</td>\n",
       "      <td>...</td>\n",
       "      <td>...</td>\n",
       "      <td>...</td>\n",
       "      <td>...</td>\n",
       "      <td>...</td>\n",
       "    </tr>\n",
       "    <tr>\n",
       "      <th>5817</th>\n",
       "      <td>36</td>\n",
       "      <td>2</td>\n",
       "      <td>9</td>\n",
       "      <td>0</td>\n",
       "      <td>6</td>\n",
       "      <td>3</td>\n",
       "      <td>0</td>\n",
       "      <td>0</td>\n",
       "      <td>1</td>\n",
       "      <td>0</td>\n",
       "    </tr>\n",
       "    <tr>\n",
       "      <th>5818</th>\n",
       "      <td>35</td>\n",
       "      <td>0</td>\n",
       "      <td>3</td>\n",
       "      <td>6</td>\n",
       "      <td>0</td>\n",
       "      <td>5</td>\n",
       "      <td>0</td>\n",
       "      <td>0</td>\n",
       "      <td>0</td>\n",
       "      <td>0</td>\n",
       "    </tr>\n",
       "    <tr>\n",
       "      <th>5819</th>\n",
       "      <td>33</td>\n",
       "      <td>0</td>\n",
       "      <td>7</td>\n",
       "      <td>2</td>\n",
       "      <td>6</td>\n",
       "      <td>4</td>\n",
       "      <td>0</td>\n",
       "      <td>0</td>\n",
       "      <td>1</td>\n",
       "      <td>0</td>\n",
       "    </tr>\n",
       "    <tr>\n",
       "      <th>5820</th>\n",
       "      <td>34</td>\n",
       "      <td>0</td>\n",
       "      <td>2</td>\n",
       "      <td>7</td>\n",
       "      <td>6</td>\n",
       "      <td>0</td>\n",
       "      <td>0</td>\n",
       "      <td>0</td>\n",
       "      <td>1</td>\n",
       "      <td>0</td>\n",
       "    </tr>\n",
       "    <tr>\n",
       "      <th>5821</th>\n",
       "      <td>33</td>\n",
       "      <td>1</td>\n",
       "      <td>5</td>\n",
       "      <td>4</td>\n",
       "      <td>0</td>\n",
       "      <td>0</td>\n",
       "      <td>0</td>\n",
       "      <td>0</td>\n",
       "      <td>0</td>\n",
       "      <td>0</td>\n",
       "    </tr>\n",
       "  </tbody>\n",
       "</table>\n",
       "<p>5822 rows × 10 columns</p>\n",
       "</div>"
      ],
      "text/plain": [
       "      MOSTYPE  MOPLHOOG  MHHUUR  MHKOOP  PPERSAUT  PBRAND  PPLEZIER  PBYSTAND  \\\n",
       "0          33         1       1       8         6       5         0         0   \n",
       "1          37         0       2       7         0       2         0         0   \n",
       "2          37         0       7       2         6       2         0         0   \n",
       "3           9         3       5       4         6       2         0         0   \n",
       "4          40         5       4       5         0       6         0         0   \n",
       "...       ...       ...     ...     ...       ...     ...       ...       ...   \n",
       "5817       36         2       9       0         6       3         0         0   \n",
       "5818       35         0       3       6         0       5         0         0   \n",
       "5819       33         0       7       2         6       4         0         0   \n",
       "5820       34         0       2       7         6       0         0         0   \n",
       "5821       33         1       5       4         0       0         0         0   \n",
       "\n",
       "      APERSAUT  APLEZIER  \n",
       "0            1         0  \n",
       "1            0         0  \n",
       "2            1         0  \n",
       "3            1         0  \n",
       "4            0         0  \n",
       "...        ...       ...  \n",
       "5817         1         0  \n",
       "5818         0         0  \n",
       "5819         1         0  \n",
       "5820         1         0  \n",
       "5821         0         0  \n",
       "\n",
       "[5822 rows x 10 columns]"
      ]
     },
     "execution_count": 447,
     "metadata": {},
     "output_type": "execute_result"
    }
   ],
   "source": [
    "top10"
   ]
  },
  {
   "cell_type": "code",
   "execution_count": 448,
   "id": "3bd4574e",
   "metadata": {},
   "outputs": [
    {
     "data": {
      "text/plain": [
       "Index(['MOSTYPE', 'MOPLHOOG', 'MHHUUR', 'MHKOOP', 'PPERSAUT', 'PBRAND',\n",
       "       'PPLEZIER', 'PBYSTAND', 'APERSAUT', 'APLEZIER'],\n",
       "      dtype='object')"
      ]
     },
     "execution_count": 448,
     "metadata": {},
     "output_type": "execute_result"
    }
   ],
   "source": [
    "top10.columns"
   ]
  },
  {
   "cell_type": "code",
   "execution_count": 449,
   "id": "f2ae721a",
   "metadata": {},
   "outputs": [
    {
     "data": {
      "image/png": "[encoded data removed]",
      "text/plain": [
       "<Figure size 1800x1800 with 10 Axes>"
      ]
     },
     "metadata": {
      "needs_background": "light"
     },
     "output_type": "display_data"
    }
   ],
   "source": [
    "fig,ax = plt.subplots(5,2,figsize=(25,25))\n",
    "\n",
    "num = 0\n",
    "for j in range(2):\n",
    "    for i in range(len(ax)):\n",
    "        k=i+5*j\n",
    "        ax[i][j].hist(top10.iloc[:,k],bins=20)\n",
    "        ax[i][j].set_title(top10.columns[k])\n",
    "        num=num+1\n",
    "        \n",
    "#comments too"
   ]
  },
  {
   "cell_type": "code",
   "execution_count": 450,
   "id": "31c39019",
   "metadata": {},
   "outputs": [],
   "source": [
    "# 2. \n",
    "#  Train a Logistic Regression (LogReg) model with L1 regularization. \n",
    "# Find the best model using grid search on C values. \n",
    "# Analyze which features have nonzero coefficients for the best model. \n",
    "# Are they in synch with your selected features from question 1? [30 Marks]"
   ]
  },
  {
   "cell_type": "code",
   "execution_count": 451,
   "id": "139dcbc0",
   "metadata": {
    "scrolled": true
   },
   "outputs": [
    {
     "name": "stdout",
     "output_type": "stream",
     "text": [
      "{'C': 0.01}\n",
      "0.9402268336209312\n"
     ]
    }
   ],
   "source": [
    "#Logistic regression with L1 Regularization\n",
    "\n",
    "from sklearn.linear_model import LogisticRegression\n",
    "param_grid = {'C':[0.01,0.1,1,2,3]} # Grid Search Parameter\n",
    "log_reg = LogisticRegression(penalty='l1') \n",
    "grid_search = GridSearchCV(LogisticRegression(penalty='l1',solver='liblinear'), param_grid, cv=5 , n_jobs=-1,)\n",
    "clf=grid_search.fit(x_train, y_train) # fit the model\n",
    "print(clf.best_params_) # show best value of C we found\n",
    "print(clf.best_score_)"
   ]
  },
  {
   "cell_type": "code",
   "execution_count": 452,
   "id": "9141d27a",
   "metadata": {},
   "outputs": [
    {
     "data": {
      "text/plain": [
       "array([[-0.01675831,  0.        ,  0.        ,  0.        ,  0.        ,\n",
       "         0.        ,  0.        ,  0.        , -0.03479546,  0.        ,\n",
       "         0.        , -0.00773786,  0.        ,  0.        ,  0.        ,\n",
       "         0.        ,  0.        , -0.07331453,  0.        ,  0.        ,\n",
       "         0.        ,  0.        ,  0.        ,  0.        ,  0.        ,\n",
       "         0.        ,  0.        ,  0.        ,  0.        , -0.15931638,\n",
       "        -0.10529017,  0.        ,  0.        ,  0.        , -0.1481739 ,\n",
       "        -0.13716543, -0.01725729,  0.        ,  0.        ,  0.        ,\n",
       "         0.        ,  0.        ,  0.        ,  0.        ,  0.        ,\n",
       "         0.        ,  0.15485753,  0.        ,  0.        ,  0.        ,\n",
       "         0.        ,  0.        ,  0.        ,  0.        ,  0.        ,\n",
       "         0.        ,  0.        ,  0.        ,  0.03420858,  0.        ,\n",
       "         0.        ,  0.        ,  0.        ,  0.        ,  0.        ,\n",
       "         0.        ,  0.        ,  0.        ,  0.        ,  0.        ,\n",
       "         0.        ,  0.        ,  0.        ,  0.        ,  0.        ,\n",
       "         0.        ,  0.        ,  0.        ,  0.        ,  0.        ,\n",
       "         0.        ,  0.        ,  0.        ,  0.        ,  0.        ]])"
      ]
     },
     "execution_count": 452,
     "metadata": {},
     "output_type": "execute_result"
    }
   ],
   "source": [
    "clf.best_estimator_.coef_"
   ]
  },
  {
   "cell_type": "code",
   "execution_count": 453,
   "id": "fe293ea3",
   "metadata": {},
   "outputs": [
    {
     "name": "stdout",
     "output_type": "stream",
     "text": [
      "Features using logreg with L1 regularization are : [1, 9, 12, 18, 30, 31, 35, 36, 37, 47, 59]\n"
     ]
    }
   ],
   "source": [
    "log_l1=(clf.best_estimator_.coef_)\n",
    "#print(type(log_l1))\n",
    "x=[]\n",
    "d=log_l1[0]\n",
    "#print(range(len(d)))\n",
    "for i in range(len(d)):\n",
    "    if d[i]!=0:\n",
    "        x.append(i+1)\n",
    "print(\"Features using logreg with L1 regularization are :\",x)"
   ]
  },
  {
   "cell_type": "code",
   "execution_count": 454,
   "id": "140f0439",
   "metadata": {},
   "outputs": [],
   "source": [
    "## Only 5 features from Q2(logreg with L1 regularization) are in synch with Q1(KBest) ,\n",
    "## those are : 1, 30, 31 ,47 and 59 \n",
    "## Feature names are: Customer Subtype, Rented Houses, Home owners, Contribution car policies, \n",
    "#                     Contribution fire policies"
   ]
  },
  {
   "cell_type": "code",
   "execution_count": 455,
   "id": "646b539b",
   "metadata": {},
   "outputs": [],
   "source": [
    "#clf.get_params().values()"
   ]
  },
  {
   "cell_type": "code",
   "execution_count": 456,
   "id": "4ad12e72",
   "metadata": {},
   "outputs": [
    {
     "name": "stdout",
     "output_type": "stream",
     "text": [
      "F-Measure: 0.895\n"
     ]
    }
   ],
   "source": [
    "pred=clf.predict(test) # predict Results\n",
    "#cm = confusion_matrix(target,pred) # get confusion matrix \n",
    "# calculate score\n",
    "score = fbeta_score(target, pred, average='weighted', beta=0.5) # arguments are actual answers and predicted answers\n",
    "print('F-Measure: %.3f' % score)"
   ]
  },
  {
   "cell_type": "code",
   "execution_count": 457,
   "id": "a6f86def",
   "metadata": {},
   "outputs": [
    {
     "name": "stdout",
     "output_type": "stream",
     "text": [
      "Accuracy ON TEST SET : 0.9404851212803201\n"
     ]
    }
   ],
   "source": [
    "#2LogisticReg with L1\n",
    "print (\"Accuracy ON TEST SET :\", metrics.accuracy_score(target, clf.predict(test)))"
   ]
  },
  {
   "cell_type": "code",
   "execution_count": 458,
   "id": "067b2fed",
   "metadata": {},
   "outputs": [],
   "source": [
    "#3. Generate polynomial features and use LogReg again with L1. See if accuracy increase. "
   ]
  },
  {
   "cell_type": "code",
   "execution_count": 459,
   "id": "0064b64c",
   "metadata": {},
   "outputs": [
    {
     "data": {
      "text/plain": [
       "Pipeline(steps=[('polynomial_features', PolynomialFeatures()),\n",
       "                ('logistic_regression',\n",
       "                 LogisticRegression(C=0.01, penalty='l1', solver='liblinear'))])"
      ]
     },
     "execution_count": 459,
     "metadata": {},
     "output_type": "execute_result"
    }
   ],
   "source": [
    "from sklearn.preprocessing import PolynomialFeatures\n",
    "from sklearn.pipeline import Pipeline\n",
    "poly = PolynomialFeatures(degree = 2) # Creating object with Ploynomial degree 2.\n",
    "lr = LogisticRegression(penalty='l1',C=0.01,solver='liblinear') \n",
    "pipe = Pipeline([('polynomial_features',poly), ('logistic_regression',lr)]) # first convert the features in polynomial than apply logistic Regression\n",
    "pipe.fit(x_train, y_train) \n"
   ]
  },
  {
   "cell_type": "code",
   "execution_count": 460,
   "id": "333e5d5d",
   "metadata": {},
   "outputs": [
    {
     "name": "stdout",
     "output_type": "stream",
     "text": [
      "F-Score: 0.897\n"
     ]
    }
   ],
   "source": [
    "pred=pipe.predict(test)\n",
    "#cm = confusion_matrix(target,pred)\n",
    "# calculate score\n",
    "score = fbeta_score(target, pred, average='weighted', beta=0.5)\n",
    "print('F-Score: %.3f' % score)"
   ]
  },
  {
   "cell_type": "code",
   "execution_count": 461,
   "id": "c6754912",
   "metadata": {},
   "outputs": [
    {
     "name": "stdout",
     "output_type": "stream",
     "text": [
      "Accuracy ON TEST SET : 0.9404851212803201\n"
     ]
    }
   ],
   "source": [
    "#2LogisticReg with L1\n",
    "print (\"Accuracy ON TEST SET :\", metrics.accuracy_score(target, clf.predict(test)))"
   ]
  },
  {
   "cell_type": "code",
   "execution_count": 462,
   "id": "15a824ef",
   "metadata": {},
   "outputs": [
    {
     "name": "stdout",
     "output_type": "stream",
     "text": [
      "Accuracy ON TEST SET : 0.9404851212803201\n"
     ]
    }
   ],
   "source": [
    "#3Polynomial\n",
    "print (\"Accuracy ON TEST SET :\", metrics.accuracy_score(target, pipe.predict(test)))"
   ]
  },
  {
   "cell_type": "code",
   "execution_count": 463,
   "id": "d9050483",
   "metadata": {},
   "outputs": [],
   "source": [
    "# The accuracy remains same "
   ]
  },
  {
   "cell_type": "code",
   "execution_count": 464,
   "id": "b2563522",
   "metadata": {},
   "outputs": [],
   "source": [
    "# 4. Train a Decision Tree and see if you can get a better result. \n",
    "# Show feature importance from the decision tree. \n",
    "# Are they in synch with the features from Q1 and Q2? "
   ]
  },
  {
   "cell_type": "code",
   "execution_count": 465,
   "id": "8becff44",
   "metadata": {},
   "outputs": [
    {
     "data": {
      "text/plain": [
       "DecisionTreeClassifier(max_depth=10, max_leaf_nodes=10)"
      ]
     },
     "execution_count": 465,
     "metadata": {},
     "output_type": "execute_result"
    }
   ],
   "source": [
    "from sklearn.tree import DecisionTreeClassifier, export_graphviz\n",
    "tree = DecisionTreeClassifier(max_depth=10,max_leaf_nodes=10)\n",
    "tree.fit(x_train, y_train)"
   ]
  },
  {
   "cell_type": "code",
   "execution_count": 466,
   "id": "be55d0a6",
   "metadata": {},
   "outputs": [
    {
     "name": "stdout",
     "output_type": "stream",
     "text": [
      "F-Score: 0.900\n"
     ]
    }
   ],
   "source": [
    "pred=tree.predict(test) # predict Results\n",
    "#cm = confusion_matrix(target,pred) # get confusion matrix \n",
    "# calculate score\n",
    "score = fbeta_score(target, pred, average='weighted', beta=0.5)\n",
    "print('F-Score: %.3f' % score)"
   ]
  },
  {
   "cell_type": "code",
   "execution_count": 467,
   "id": "f309608b",
   "metadata": {},
   "outputs": [
    {
     "data": {
      "text/plain": [
       "array([0.15076301, 0.        , 0.        , 0.        , 0.        ,\n",
       "       0.        , 0.        , 0.        , 0.        , 0.        ,\n",
       "       0.        , 0.        , 0.        , 0.        , 0.        ,\n",
       "       0.        , 0.        , 0.05561635, 0.        , 0.        ,\n",
       "       0.        , 0.        , 0.        , 0.0714191 , 0.        ,\n",
       "       0.        , 0.        , 0.        , 0.        , 0.        ,\n",
       "       0.        , 0.        , 0.        , 0.        , 0.        ,\n",
       "       0.        , 0.        , 0.        , 0.        , 0.06196093,\n",
       "       0.        , 0.        , 0.        , 0.08068586, 0.        ,\n",
       "       0.        , 0.32246037, 0.        , 0.        , 0.        ,\n",
       "       0.        , 0.        , 0.        , 0.        , 0.        ,\n",
       "       0.        , 0.        , 0.        , 0.15355055, 0.        ,\n",
       "       0.        , 0.        , 0.        , 0.        , 0.        ,\n",
       "       0.        , 0.        , 0.        , 0.        , 0.        ,\n",
       "       0.        , 0.        , 0.        , 0.        , 0.        ,\n",
       "       0.        , 0.        , 0.        , 0.        , 0.        ,\n",
       "       0.        , 0.10354382, 0.        , 0.        , 0.        ])"
      ]
     },
     "execution_count": 467,
     "metadata": {},
     "output_type": "execute_result"
    }
   ],
   "source": [
    "tree.feature_importances_"
   ]
  },
  {
   "cell_type": "code",
   "execution_count": 468,
   "id": "fc5c0c8c",
   "metadata": {},
   "outputs": [
    {
     "name": "stdout",
     "output_type": "stream",
     "text": [
      "Features using Decision Tree are : [1, 18, 24, 40, 44, 47, 59, 82]\n"
     ]
    }
   ],
   "source": [
    "decision_tree=(tree.feature_importances_)\n",
    "x=[]\n",
    "d=decision_tree\n",
    "for i in range(len(d)):\n",
    "    if d[i]!=0:\n",
    "        x.append(i+1)\n",
    "print(\"Features using Decision Tree are :\",x)"
   ]
  },
  {
   "cell_type": "code",
   "execution_count": 469,
   "id": "23931c87",
   "metadata": {},
   "outputs": [],
   "source": [
    "##Comparing the features from Q4 with Q1 , only 3 features are in synch with Q1 features \n",
    "## and those features are:47, 59 and 82 namely : Contribution car policies, Contribution fire policies \n",
    "##                                               and No. of boat policies\n",
    "##Comparing the features from Q4 with Q2 , only 3 features are in synch with Q2 features \n",
    "## and those features are:18, 47 and 59 namely : Lower Level education, Contribution car policies \n",
    "##                                              and Contribution fire policies"
   ]
  },
  {
   "cell_type": "code",
   "execution_count": 470,
   "id": "934a4d70",
   "metadata": {},
   "outputs": [
    {
     "name": "stdout",
     "output_type": "stream",
     "text": [
      "Accuracy ON TEST SET with logreg L1 only : 0.9404851212803201\n"
     ]
    }
   ],
   "source": [
    "#2LogisticReg with L1\n",
    "print (\"Accuracy ON TEST SET with logreg L1 only :\", metrics.accuracy_score(target, clf.predict(test)))"
   ]
  },
  {
   "cell_type": "code",
   "execution_count": 471,
   "id": "3861259a",
   "metadata": {},
   "outputs": [
    {
     "name": "stdout",
     "output_type": "stream",
     "text": [
      "Accuracy ON TEST SET with polynomial and L1 : 0.9404851212803201\n"
     ]
    }
   ],
   "source": [
    "#3Polynomial\n",
    "print (\"Accuracy ON TEST SET with polynomial and L1 :\", metrics.accuracy_score(target, pipe.predict(test)))"
   ]
  },
  {
   "cell_type": "code",
   "execution_count": 472,
   "id": "f5b828a2",
   "metadata": {},
   "outputs": [
    {
     "name": "stdout",
     "output_type": "stream",
     "text": [
      "Accuracy ON TEST SET with decision tree classifier: 0.9389847461865466\n"
     ]
    }
   ],
   "source": [
    "#3Decision Tree Classifier\n",
    "print (\"Accuracy ON TEST SET with decision tree classifier:\", metrics.accuracy_score(target, tree.predict(test)))"
   ]
  },
  {
   "cell_type": "code",
   "execution_count": null,
   "id": "51ae2e80",
   "metadata": {},
   "outputs": [],
   "source": []
  },
  {
   "cell_type": "code",
   "execution_count": null,
   "id": "233ba88b",
   "metadata": {},
   "outputs": [],
   "source": []
  }
 ],
 "metadata": {
  "kernelspec": {
   "display_name": "Python 3 (ipykernel)",
   "language": "python",
   "name": "python3"
  },
  "language_info": {
   "codemirror_mode": {
    "name": "ipython",
    "version": 3
   },
   "file_extension": ".py",
   "mimetype": "text/x-python",
   "name": "python",
   "nbconvert_exporter": "python",
   "pygments_lexer": "ipython3",
   "version": "3.9.7"
  }
 },
 "nbformat": 4,
 "nbformat_minor": 5
}
